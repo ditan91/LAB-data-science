{
  "nbformat": 4,
  "nbformat_minor": 5,
  "metadata": {
    "kernelspec": {
      "display_name": "Python 3",
      "language": "python",
      "name": "python3"
    },
    "language_info": {
      "codemirror_mode": {
        "name": "ipython",
        "version": 3
      },
      "file_extension": ".py",
      "mimetype": "text/x-python",
      "name": "python",
      "nbconvert_exporter": "python",
      "pygments_lexer": "ipython3",
      "version": "3.6.12"
    },
    "toc": {
      "base_numbering": 1,
      "nav_menu": {},
      "number_sections": false,
      "sideBar": true,
      "skip_h1_title": false,
      "title_cell": "Table of Contents",
      "title_sidebar": "Contents",
      "toc_cell": false,
      "toc_position": {
        "height": "calc(100% - 180px)",
        "left": "10px",
        "top": "150px",
        "width": "271.997px"
      },
      "toc_section_display": true,
      "toc_window_display": true
    },
    "varInspector": {
      "cols": {
        "lenName": 16,
        "lenType": 16,
        "lenVar": 40
      },
      "kernels_config": {
        "python": {
          "delete_cmd_postfix": "",
          "delete_cmd_prefix": "del ",
          "library": "var_list.py",
          "varRefreshCmd": "print(var_dic_list())"
        },
        "r": {
          "delete_cmd_postfix": ") ",
          "delete_cmd_prefix": "rm(",
          "library": "var_list.r",
          "varRefreshCmd": "cat(var_dic_list()) "
        }
      },
      "types_to_exclude": [
        "module",
        "function",
        "builtin_function_or_method",
        "instance",
        "_Feature"
      ],
      "window_display": false
    },
    "colab": {
      "name": "Meet1 numpy.ipynb",
      "provenance": [],
      "collapsed_sections": []
    }
  },
  "cells": [
    {
      "cell_type": "markdown",
      "metadata": {
        "id": "refined-bride"
      },
      "source": [
        "## Numpy \n",
        "\n",
        "\n",
        "Numpy library adalah salah satu library untuk scientific computing."
      ],
      "id": "refined-bride"
    },
    {
      "cell_type": "code",
      "metadata": {
        "id": "hungry-slovak",
        "colab": {
          "base_uri": "https://localhost:8080/"
        },
        "outputId": "ca6136de-4220-4bb5-9b26-4d26716f6559"
      },
      "source": [
        "# biasain Lakuin hal ini disetiap import library\n",
        "\n",
        "import numpy as np\n",
        "\n",
        "print(f\"Version Numpy : {np.__version__}\")"
      ],
      "id": "hungry-slovak",
      "execution_count": null,
      "outputs": [
        {
          "output_type": "stream",
          "text": [
            "Version Numpy : 1.19.5\n"
          ],
          "name": "stdout"
        }
      ]
    },
    {
      "cell_type": "code",
      "metadata": {
        "id": "round-shock",
        "outputId": "72277ca2-71b2-45eb-acbf-0f783a0661a7"
      },
      "source": [
        "# Set np.random.seed biar reproducible\n",
        "np.random.seed(10)\n",
        "print(np.random.randint(1, 9, size=10))"
      ],
      "id": "round-shock",
      "execution_count": null,
      "outputs": [
        {
          "output_type": "stream",
          "text": [
            "[2 6 5 8 1 2 4 5 2 6]\n"
          ],
          "name": "stdout"
        }
      ]
    },
    {
      "cell_type": "markdown",
      "metadata": {
        "id": "73f6bee5"
      },
      "source": [
        "## Perbandingan kecepatan Numpy array dengan built in array"
      ],
      "id": "73f6bee5"
    },
    {
      "cell_type": "code",
      "metadata": {
        "id": "3ecf828f",
        "outputId": "78ca3015-b53d-42a3-fe13-a56613989a73"
      },
      "source": [
        "import numpy\n",
        "import time\n",
        " \n",
        "# size of arrays and lists\n",
        "size = 10000000  \n",
        " \n",
        "# declaring lists\n",
        "list1 = range(size)\n",
        "list2 = range(size)\n",
        " \n",
        "# declaring arrays\n",
        "array1 = numpy.arange(size) \n",
        "array2 = numpy.arange(size)\n",
        " \n",
        "# list\n",
        "initialTime = time.time()\n",
        "resultantList = [(a * b) for a, b in zip(list1, list2)]\n",
        " \n",
        "# calculating execution time\n",
        "print(\"Time taken by Lists :\",\n",
        "      (time.time() - initialTime),\n",
        "      \"seconds\")\n",
        " \n",
        "# NumPy array\n",
        "initialTime = time.time()\n",
        "resultantArray = array1 * array2\n",
        " \n",
        "# calculating execution time\n",
        "print(\"Time taken by NumPy Arrays :\",\n",
        "      (time.time() - initialTime),\n",
        "      \"seconds\")"
      ],
      "id": "3ecf828f",
      "execution_count": null,
      "outputs": [
        {
          "output_type": "stream",
          "text": [
            "Time taken by Lists : 1.2008934020996094 seconds\n",
            "Time taken by NumPy Arrays : 0.01897144317626953 seconds\n"
          ],
          "name": "stdout"
        }
      ]
    },
    {
      "cell_type": "markdown",
      "metadata": {
        "id": "animal-landing"
      },
      "source": [
        "## Basic Numpy arrays yang bakalan dibahas\n",
        "- Create Matrix & vector\n",
        "- Attributes dari Numpy\n",
        "- Indexing Numpy\n",
        "- Slicing numpy\n",
        "- Reshaping Array\n",
        "- Join & Split Array\n",
        "- Conditional Array\n"
      ],
      "id": "animal-landing"
    },
    {
      "cell_type": "markdown",
      "metadata": {
        "id": "breathing-crime"
      },
      "source": [
        "### Creating Matrix & Vector \n",
        "Buanyaakk banget caranya\n",
        "tapi kami cuma ngasih beberapa saja yang umum"
      ],
      "id": "breathing-crime"
    },
    {
      "cell_type": "code",
      "metadata": {
        "id": "mathematical-offer",
        "outputId": "f5b57466-346a-4554-ded8-f077eee20c16"
      },
      "source": [
        "# Vector random\n",
        "\n",
        "np.random.seed(10)\n",
        "print(np.arange(10), '\\n')\n",
        "print(np.ones(shape=(10), dtype=np.float32), '\\n')\n",
        "print(np.zeros(shape=(10, 1), dtype=np.int32), '\\n')\n",
        "print(np.random.randn(10), '\\n')\n",
        "print(np.random.randint(1, 11, size=10), '\\n')\n",
        "print(np.array([1, 2, 3, 4], dtype=np.int32), '\\n')\n",
        "\n",
        "print(\"====================== MATRIX SECTION ====================\")\n",
        "# Matrix\n",
        "print(np.ones(shape=(4, 4)), '\\n')\n",
        "print(np.zeros(shape=(7, 7)), '\\n')\n",
        "print(np.array([[1, 2, 3], [1, 4, 5], [2, 3, 4]]), '\\n')\n",
        "print(np.eye(N=3, M=10, k=5), '\\n')"
      ],
      "id": "mathematical-offer",
      "execution_count": null,
      "outputs": [
        {
          "output_type": "stream",
          "text": [
            "[0 1 2 3 4 5 6 7 8 9] \n",
            "\n",
            "[1. 1. 1. 1. 1. 1. 1. 1. 1. 1.] \n",
            "\n",
            "[[0]\n",
            " [0]\n",
            " [0]\n",
            " [0]\n",
            " [0]\n",
            " [0]\n",
            " [0]\n",
            " [0]\n",
            " [0]\n",
            " [0]] \n",
            "\n",
            "[ 1.3315865   0.71527897 -1.54540029 -0.00838385  0.62133597 -0.72008556\n",
            "  0.26551159  0.10854853  0.00429143 -0.17460021] \n",
            "\n",
            "[ 2  9  5  2  4  7  6  4 10  7] \n",
            "\n",
            "[1 2 3 4] \n",
            "\n",
            "====================== MATRIX SECTION ====================\n",
            "[[1. 1. 1. 1.]\n",
            " [1. 1. 1. 1.]\n",
            " [1. 1. 1. 1.]\n",
            " [1. 1. 1. 1.]] \n",
            "\n",
            "[[0. 0. 0. 0. 0. 0. 0.]\n",
            " [0. 0. 0. 0. 0. 0. 0.]\n",
            " [0. 0. 0. 0. 0. 0. 0.]\n",
            " [0. 0. 0. 0. 0. 0. 0.]\n",
            " [0. 0. 0. 0. 0. 0. 0.]\n",
            " [0. 0. 0. 0. 0. 0. 0.]\n",
            " [0. 0. 0. 0. 0. 0. 0.]] \n",
            "\n",
            "[[1 2 3]\n",
            " [1 4 5]\n",
            " [2 3 4]] \n",
            "\n",
            "[[0. 0. 0. 0. 0. 1. 0. 0. 0. 0.]\n",
            " [0. 0. 0. 0. 0. 0. 1. 0. 0. 0.]\n",
            " [0. 0. 0. 0. 0. 0. 0. 1. 0. 0.]] \n",
            "\n"
          ],
          "name": "stdout"
        }
      ]
    },
    {
      "cell_type": "markdown",
      "metadata": {
        "id": "direct-impression"
      },
      "source": [
        "## Attributes Numpy\n",
        "Attr nya gausah dihafal ,sering aja dipake ntar juga nyantol"
      ],
      "id": "direct-impression"
    },
    {
      "cell_type": "code",
      "metadata": {
        "id": "unique-wichita"
      },
      "source": [
        "np.ndarray?"
      ],
      "id": "unique-wichita",
      "execution_count": null,
      "outputs": []
    },
    {
      "cell_type": "code",
      "metadata": {
        "id": "laden-galaxy",
        "outputId": "ae1609f5-ad7f-4030-d474-78d2e31fbced"
      },
      "source": [
        "np.random.seed(10)\n",
        "randArray = np.array([[5, 22, 1], [2, 34, 4], [4, 3, 2]])\n",
        "print(f\"type : {type(randArray)} dengan Nilai : \\n{randArray} \")\n",
        "print()"
      ],
      "id": "laden-galaxy",
      "execution_count": null,
      "outputs": [
        {
          "output_type": "stream",
          "text": [
            "type : <class 'numpy.ndarray'> dengan Nilai : \n",
            "[[ 5 22  1]\n",
            " [ 2 34  4]\n",
            " [ 4  3  2]] \n",
            "\n"
          ],
          "name": "stdout"
        }
      ]
    },
    {
      "cell_type": "code",
      "metadata": {
        "id": "selected-institution",
        "outputId": "9743ebd4-7504-402f-fbdf-79901e70fa48"
      },
      "source": [
        "print(f\"Transpose : \\n{randArray.T}\")\n",
        "print(f\"\\nDimension : \\n{randArray.ndim}\")\n",
        "print(f\"\\nShape : \\n {randArray.shape}\")\n",
        "print(f\"\\nSize : \\n {randArray.size}\")\n",
        "print(f\"\\nitemSize : \\n {randArray.itemsize} bytes\")\n",
        "print(f\"\\ndtype : \\n{randArray.dtype}\")"
      ],
      "id": "selected-institution",
      "execution_count": null,
      "outputs": [
        {
          "output_type": "stream",
          "text": [
            "Transpose : \n",
            "[[ 5  2  4]\n",
            " [22 34  3]\n",
            " [ 1  4  2]]\n",
            "\n",
            "Dimension : \n",
            "2\n",
            "\n",
            "Shape : \n",
            " (3, 3)\n",
            "\n",
            "Size : \n",
            " 9\n",
            "\n",
            "itemSize : \n",
            " 4 bytes\n",
            "\n",
            "dtype : \n",
            "int32\n"
          ],
          "name": "stdout"
        }
      ]
    },
    {
      "cell_type": "code",
      "metadata": {
        "id": "distinguished-saudi",
        "outputId": "2e200e62-c91f-4aed-ea18-e0b3fbcd2089"
      },
      "source": [
        "print(len(randArray))\n",
        "print(randArray.size)"
      ],
      "id": "distinguished-saudi",
      "execution_count": null,
      "outputs": [
        {
          "output_type": "stream",
          "text": [
            "3\n",
            "9\n"
          ],
          "name": "stdout"
        }
      ]
    },
    {
      "cell_type": "code",
      "metadata": {
        "id": "spoken-offset",
        "outputId": "1a8f494b-338f-48e2-cf5a-434f083740ce"
      },
      "source": [
        "# a.T * a == kuadrat dari a\n",
        "print(randArray.T * randArray, '\\n')\n",
        "print(randArray * randArray.T)"
      ],
      "id": "spoken-offset",
      "execution_count": null,
      "outputs": [
        {
          "output_type": "stream",
          "text": [
            "[[  25   44    4]\n",
            " [  44 1156   12]\n",
            " [   4   12    4]] \n",
            "\n",
            "[[  25   44    4]\n",
            " [  44 1156   12]\n",
            " [   4   12    4]]\n"
          ],
          "name": "stdout"
        }
      ]
    },
    {
      "cell_type": "markdown",
      "metadata": {
        "id": "geological-hypothesis"
      },
      "source": [
        "## Indexing Numpy\n",
        "Cukup Ez ya indexing itu , intinya tujuan indexing ya ngambil data \n"
      ],
      "id": "geological-hypothesis"
    },
    {
      "cell_type": "code",
      "metadata": {
        "id": "forward-gravity",
        "outputId": "e30d5efa-2c86-48be-9c4a-bbcbf03f82fa"
      },
      "source": [
        "print(randArray)"
      ],
      "id": "forward-gravity",
      "execution_count": null,
      "outputs": [
        {
          "output_type": "stream",
          "text": [
            "[[ 5 22  1]\n",
            " [ 2 34  4]\n",
            " [ 4  3  2]]\n"
          ],
          "name": "stdout"
        }
      ]
    },
    {
      "cell_type": "code",
      "metadata": {
        "id": "bigger-celebration",
        "outputId": "d0068d36-8b87-446d-83fc-6f29602ea5eb"
      },
      "source": [
        "print(f\"Index 0 : {randArray[0]}\")\n",
        "print(f\"index 0,1 : {randArray[0,1]}\")\n",
        "print(f\"index 0,1 : {randArray[0][1]}\")"
      ],
      "id": "bigger-celebration",
      "execution_count": null,
      "outputs": [
        {
          "output_type": "stream",
          "text": [
            "Index 0 : [ 5 22  1]\n",
            "index 0,1 : 22\n",
            "index 0,1 : 22\n"
          ],
          "name": "stdout"
        }
      ]
    },
    {
      "cell_type": "code",
      "metadata": {
        "id": "becf3601",
        "outputId": "b29fb3e0-a40f-43d6-e4b7-756c9010f1b6"
      },
      "source": [
        "#dapatin index maximum\n",
        "print(f\"index maximum = {randArray.argmax()}\")\n",
        "\n",
        "#dapatin index minimum\n",
        "print(f\"index minimum = {randArray.argmin()}\")\n",
        "\n",
        "#ini untuk sorting value tapi yang diambil indexnya\n",
        "print(f\"sorting value =\\n{randArray.flatten().argsort()}\")"
      ],
      "id": "becf3601",
      "execution_count": null,
      "outputs": [
        {
          "output_type": "stream",
          "text": [
            "index maximum = 4\n",
            "index minimum = 2\n",
            "sorting value =\n",
            "[2 3 8 7 5 6 0 1 4]\n"
          ],
          "name": "stdout"
        }
      ]
    },
    {
      "cell_type": "code",
      "metadata": {
        "id": "patent-league",
        "outputId": "ef2abbd6-20de-4eaa-e7ff-45488f4434bd"
      },
      "source": [
        "index0 = randArray[0]\n",
        "print(f\"type {type(index0)} : nilai { index0 } \")"
      ],
      "id": "patent-league",
      "execution_count": null,
      "outputs": [
        {
          "output_type": "stream",
          "text": [
            "type <class 'numpy.ndarray'> : nilai [ 5 22  1] \n"
          ],
          "name": "stdout"
        }
      ]
    },
    {
      "cell_type": "code",
      "metadata": {
        "id": "broke-wealth",
        "outputId": "b4b47b2b-bcc4-4383-be9a-678f93764537"
      },
      "source": [
        "print(\"min : \", index0.min())\n",
        "print(\"max : \", index0.max())\n",
        "print(\"shape : \", index0.shape)\n",
        "print(\"size : \", index0.size)\n",
        "print(\"reshape : \\n\", index0.reshape((3, 1)))\n",
        "print(\"reshape.shape : \", index0.reshape(3, 1).shape)  # Chaining"
      ],
      "id": "broke-wealth",
      "execution_count": null,
      "outputs": [
        {
          "output_type": "stream",
          "text": [
            "min :  1\n",
            "max :  22\n",
            "shape :  (3,)\n",
            "size :  3\n",
            "reshape : \n",
            " [[ 5]\n",
            " [22]\n",
            " [ 1]]\n",
            "reshape.shape :  (3, 1)\n"
          ],
          "name": "stdout"
        }
      ]
    },
    {
      "cell_type": "markdown",
      "metadata": {
        "id": "communist-pharmaceutical"
      },
      "source": [
        "## Array Slicing . < MEMOTONG >\n",
        "### x[start:stop:step]"
      ],
      "id": "communist-pharmaceutical"
    },
    {
      "cell_type": "markdown",
      "metadata": {
        "id": "57d1ae17"
      },
      "source": [
        "![numpySlicing.jpg](attachment:numpySlicing.jpg)"
      ],
      "id": "57d1ae17"
    },
    {
      "cell_type": "code",
      "metadata": {
        "id": "referenced-portal",
        "outputId": "7a4ea8b0-3258-485d-f9f8-20fc5af32aea"
      },
      "source": [
        "arr = np.arange(1, 17).reshape(4, 4)\n",
        "arr"
      ],
      "id": "referenced-portal",
      "execution_count": null,
      "outputs": [
        {
          "output_type": "execute_result",
          "data": {
            "text/plain": [
              "array([[ 1,  2,  3,  4],\n",
              "       [ 5,  6,  7,  8],\n",
              "       [ 9, 10, 11, 12],\n",
              "       [13, 14, 15, 16]])"
            ]
          },
          "metadata": {
            "tags": []
          },
          "execution_count": 15
        }
      ]
    },
    {
      "cell_type": "code",
      "metadata": {
        "id": "worldwide-insertion",
        "outputId": "917da216-89ef-4d2f-dfb9-547cf287d873"
      },
      "source": [
        "arr[1, 2:4]"
      ],
      "id": "worldwide-insertion",
      "execution_count": null,
      "outputs": [
        {
          "output_type": "execute_result",
          "data": {
            "text/plain": [
              "array([7, 8])"
            ]
          },
          "metadata": {
            "tags": []
          },
          "execution_count": 16
        }
      ]
    },
    {
      "cell_type": "code",
      "metadata": {
        "id": "norwegian-ethernet",
        "outputId": "a1ad8059-9459-4f3d-b51e-508b15c5910a"
      },
      "source": [
        "arr[:, 1]"
      ],
      "id": "norwegian-ethernet",
      "execution_count": null,
      "outputs": [
        {
          "output_type": "execute_result",
          "data": {
            "text/plain": [
              "array([ 2,  6, 10, 14])"
            ]
          },
          "metadata": {
            "tags": []
          },
          "execution_count": 17
        }
      ]
    },
    {
      "cell_type": "code",
      "metadata": {
        "id": "13e58ff8",
        "outputId": "79b2ae6d-c753-4ef3-ea41-4778a11b9162"
      },
      "source": [
        "arr[2:, 2:]"
      ],
      "id": "13e58ff8",
      "execution_count": null,
      "outputs": [
        {
          "output_type": "execute_result",
          "data": {
            "text/plain": [
              "array([[11, 12],\n",
              "       [15, 16]])"
            ]
          },
          "metadata": {
            "tags": []
          },
          "execution_count": 18
        }
      ]
    },
    {
      "cell_type": "code",
      "metadata": {
        "id": "3d9b3f51",
        "outputId": "be955fd1-51e9-45fe-bfc3-faf89f698861"
      },
      "source": [
        "arr[1::2, ::2]"
      ],
      "id": "3d9b3f51",
      "execution_count": null,
      "outputs": [
        {
          "output_type": "execute_result",
          "data": {
            "text/plain": [
              "array([[ 5,  7],\n",
              "       [13, 15]])"
            ]
          },
          "metadata": {
            "tags": []
          },
          "execution_count": 19
        }
      ]
    },
    {
      "cell_type": "code",
      "metadata": {
        "id": "24192bbc",
        "outputId": "2f2683c9-10f7-4e91-8d28-c79090120dc8"
      },
      "source": [
        "arr[::-1, ::-1]"
      ],
      "id": "24192bbc",
      "execution_count": null,
      "outputs": [
        {
          "output_type": "execute_result",
          "data": {
            "text/plain": [
              "array([[16, 15, 14, 13],\n",
              "       [12, 11, 10,  9],\n",
              "       [ 8,  7,  6,  5],\n",
              "       [ 4,  3,  2,  1]])"
            ]
          },
          "metadata": {
            "tags": []
          },
          "execution_count": 20
        }
      ]
    },
    {
      "cell_type": "markdown",
      "metadata": {
        "id": "exotic-wichita"
      },
      "source": [
        "##  Reshaping & manipulate dims in Numpy array \n",
        " Intinya nge reshape data \\n\n",
        " Tips :\n",
        " - Cek Shapenya\n",
        " - Gunakan perkalian agar hasil perkalian pada shapenya sama "
      ],
      "id": "exotic-wichita"
    },
    {
      "cell_type": "code",
      "metadata": {
        "id": "enclosed-bradley",
        "outputId": "39350862-410e-4cb0-f918-6ac956a2bb7e"
      },
      "source": [
        "arr = np.arange(1, 19).reshape(3, 3, 2)\n",
        "\n",
        "print(f\"Shape {arr.shape}\\n\")\n",
        "print(f\"arr normalnya gini:\\n {arr}\")\n",
        "print(f\"\\nabis di reshape \\n{arr.reshape(6,3)}\")"
      ],
      "id": "enclosed-bradley",
      "execution_count": null,
      "outputs": [
        {
          "output_type": "stream",
          "text": [
            "Shape (3, 3, 2)\n",
            "\n",
            "arr normalnya gini:\n",
            " [[[ 1  2]\n",
            "  [ 3  4]\n",
            "  [ 5  6]]\n",
            "\n",
            " [[ 7  8]\n",
            "  [ 9 10]\n",
            "  [11 12]]\n",
            "\n",
            " [[13 14]\n",
            "  [15 16]\n",
            "  [17 18]]]\n",
            "\n",
            "abis di reshape \n",
            "[[ 1  2  3]\n",
            " [ 4  5  6]\n",
            " [ 7  8  9]\n",
            " [10 11 12]\n",
            " [13 14 15]\n",
            " [16 17 18]]\n"
          ],
          "name": "stdout"
        }
      ]
    },
    {
      "cell_type": "code",
      "metadata": {
        "id": "dense-florence",
        "outputId": "a4e3af2f-1ba9-412d-985d-24fdd621b109"
      },
      "source": [
        "# adding dims\n",
        "arr = np.arange(6).reshape(3, 2)\n",
        "print(f\"awalnya shapenya gini {arr.shape}\")\n",
        "print(f\"expand bagian belakang {np.expand_dims(arr,axis=2).shape}\")\n",
        "print(f\"expand bagian tengah {arr[:,np.newaxis,...].shape}\")\n",
        "print(f\"expand bagian depan {arr[np.newaxis,...].shape}\")\n",
        "\n",
        "#kalau misalkan di print sih gini\n",
        "\n",
        "print(\"\\n\\n kalo di print\")\n",
        "print(f\"normal \\n{arr}\")\n",
        "print(f\"\\nexpand bagian belakang \\n{np.expand_dims(arr,axis=2)}\")\n",
        "print(f\"\\nexpand bagian belakang \\n{arr[:,np.newaxis,...]}\")\n",
        "print(f\"\\nexpand bagian depan\\n {arr[np.newaxis,...]}\")"
      ],
      "id": "dense-florence",
      "execution_count": null,
      "outputs": [
        {
          "output_type": "stream",
          "text": [
            "awalnya shapenya gini (3, 2)\n",
            "expand bagian belakang (3, 2, 1)\n",
            "expand bagian tengah (3, 1, 2)\n",
            "expand bagian depan (1, 3, 2)\n",
            "\n",
            "\n",
            " kalo di print\n",
            "normal \n",
            "[[0 1]\n",
            " [2 3]\n",
            " [4 5]]\n",
            "\n",
            "expand bagian belakang \n",
            "[[[0]\n",
            "  [1]]\n",
            "\n",
            " [[2]\n",
            "  [3]]\n",
            "\n",
            " [[4]\n",
            "  [5]]]\n",
            "\n",
            "expand bagian belakang \n",
            "[[[0 1]]\n",
            "\n",
            " [[2 3]]\n",
            "\n",
            " [[4 5]]]\n",
            "\n",
            "expand bagian depan\n",
            " [[[0 1]\n",
            "  [2 3]\n",
            "  [4 5]]]\n"
          ],
          "name": "stdout"
        }
      ]
    },
    {
      "cell_type": "code",
      "metadata": {
        "id": "cosmetic-process",
        "outputId": "219ba242-382a-419c-c048-caeb778307fd"
      },
      "source": [
        "# Removing Dims\n",
        "arr = np.ones(shape=(3, 2))\n",
        "print((arr[:, np.newaxis, np.newaxis, ...]).shape)\n",
        "print(np.squeeze(arr[:, np.newaxis, np.newaxis, ...]).shape)"
      ],
      "id": "cosmetic-process",
      "execution_count": null,
      "outputs": [
        {
          "output_type": "stream",
          "text": [
            "(3, 1, 1, 2)\n",
            "(3, 2)\n"
          ],
          "name": "stdout"
        }
      ]
    },
    {
      "cell_type": "markdown",
      "metadata": {
        "id": "motivated-deployment"
      },
      "source": [
        "## Join And Splitting Numpy \n"
      ],
      "id": "motivated-deployment"
    },
    {
      "cell_type": "markdown",
      "metadata": {
        "id": "accompanied-statistics"
      },
      "source": [
        "### Splitting\n",
        "Well Nge split ya memecah\n"
      ],
      "id": "accompanied-statistics"
    },
    {
      "cell_type": "code",
      "metadata": {
        "id": "aggressive-cache",
        "outputId": "7a8a4fd8-3bd7-46a8-a24c-af1d2e807b6b"
      },
      "source": [
        "arr = np.arange(10)\n",
        "print(f\"{np.array_split(arr,indices_or_sections=5,axis=0)}\\n\")\n",
        "print(f\"{np.array_split(arr,indices_or_sections=4,axis=0)}\\n\")\n",
        "print(f\"{np.array_split(arr,indices_or_sections=8,axis=0)}\\n\")\n",
        "\n",
        "#dia di pecah jadi sub array tar bisa kita print\n",
        "x = np.array_split(arr, indices_or_sections=5, axis=0)\n",
        "\n",
        "for arr in x:\n",
        "    print(arr)"
      ],
      "id": "aggressive-cache",
      "execution_count": null,
      "outputs": [
        {
          "output_type": "stream",
          "text": [
            "[array([0, 1]), array([2, 3]), array([4, 5]), array([6, 7]), array([8, 9])]\n",
            "\n",
            "[array([0, 1, 2]), array([3, 4, 5]), array([6, 7]), array([8, 9])]\n",
            "\n",
            "[array([0, 1]), array([2, 3]), array([4]), array([5]), array([6]), array([7]), array([8]), array([9])]\n",
            "\n",
            "[0 1]\n",
            "[2 3]\n",
            "[4 5]\n",
            "[6 7]\n",
            "[8 9]\n"
          ],
          "name": "stdout"
        }
      ]
    },
    {
      "cell_type": "code",
      "metadata": {
        "id": "civil-geometry",
        "outputId": "56d7ff75-adbf-420f-e0a0-c8370dd8661c"
      },
      "source": [
        "arr = np.arange(20).reshape((2, 10))\n",
        "print(arr, \"\\n\")\n",
        "print(f\"{np.array_split(arr,indices_or_sections=5,axis=1)}\\n\")\n",
        "print(f\"{np.array_split(arr,indices_or_sections=4,axis=1)}\\n\")\n",
        "print(f\"{np.array_split(arr,indices_or_sections=8,axis=1)}\\n\")"
      ],
      "id": "civil-geometry",
      "execution_count": null,
      "outputs": [
        {
          "output_type": "stream",
          "text": [
            "[[ 0  1  2  3  4  5  6  7  8  9]\n",
            " [10 11 12 13 14 15 16 17 18 19]] \n",
            "\n",
            "[array([[ 0,  1],\n",
            "       [10, 11]]), array([[ 2,  3],\n",
            "       [12, 13]]), array([[ 4,  5],\n",
            "       [14, 15]]), array([[ 6,  7],\n",
            "       [16, 17]]), array([[ 8,  9],\n",
            "       [18, 19]])]\n",
            "\n",
            "[array([[ 0,  1,  2],\n",
            "       [10, 11, 12]]), array([[ 3,  4,  5],\n",
            "       [13, 14, 15]]), array([[ 6,  7],\n",
            "       [16, 17]]), array([[ 8,  9],\n",
            "       [18, 19]])]\n",
            "\n",
            "[array([[ 0,  1],\n",
            "       [10, 11]]), array([[ 2,  3],\n",
            "       [12, 13]]), array([[ 4],\n",
            "       [14]]), array([[ 5],\n",
            "       [15]]), array([[ 6],\n",
            "       [16]]), array([[ 7],\n",
            "       [17]]), array([[ 8],\n",
            "       [18]]), array([[ 9],\n",
            "       [19]])]\n",
            "\n"
          ],
          "name": "stdout"
        }
      ]
    },
    {
      "cell_type": "code",
      "metadata": {
        "id": "understood-stake",
        "outputId": "3468d574-79da-4cb0-d2fb-c573715a4cd9"
      },
      "source": [
        "arr = np.ones(shape=(10, 5))\n",
        "print(arr)"
      ],
      "id": "understood-stake",
      "execution_count": null,
      "outputs": [
        {
          "output_type": "stream",
          "text": [
            "[[1. 1. 1. 1. 1.]\n",
            " [1. 1. 1. 1. 1.]\n",
            " [1. 1. 1. 1. 1.]\n",
            " [1. 1. 1. 1. 1.]\n",
            " [1. 1. 1. 1. 1.]\n",
            " [1. 1. 1. 1. 1.]\n",
            " [1. 1. 1. 1. 1.]\n",
            " [1. 1. 1. 1. 1.]\n",
            " [1. 1. 1. 1. 1.]\n",
            " [1. 1. 1. 1. 1.]]\n"
          ],
          "name": "stdout"
        }
      ]
    },
    {
      "cell_type": "code",
      "metadata": {
        "id": "weighted-deployment",
        "outputId": "39577764-9815-40f2-886d-fd70e31036f5"
      },
      "source": [
        "# Vertical Stacking ,\n",
        "\n",
        "# Rules Vertikal Simple : Total Columns Harus Sama\n",
        "arr1 = np.ones(shape=(1, 10))\n",
        "arr2 = np.zeros(shape=(5, 10))\n",
        "print(np.vstack((arr1, arr2)))"
      ],
      "id": "weighted-deployment",
      "execution_count": null,
      "outputs": [
        {
          "output_type": "stream",
          "text": [
            "[[1. 1. 1. 1. 1. 1. 1. 1. 1. 1.]\n",
            " [0. 0. 0. 0. 0. 0. 0. 0. 0. 0.]\n",
            " [0. 0. 0. 0. 0. 0. 0. 0. 0. 0.]\n",
            " [0. 0. 0. 0. 0. 0. 0. 0. 0. 0.]\n",
            " [0. 0. 0. 0. 0. 0. 0. 0. 0. 0.]\n",
            " [0. 0. 0. 0. 0. 0. 0. 0. 0. 0.]]\n"
          ],
          "name": "stdout"
        }
      ]
    },
    {
      "cell_type": "code",
      "metadata": {
        "id": "international-economics",
        "outputId": "f58c77f3-9864-4752-a88e-3912be9f72f0"
      },
      "source": [
        "# Horizontal Stacking ,\n",
        "\n",
        "# Rules horizontal Simple : Total rows Harus Sama\n",
        "arr1 = np.ones(shape=(5, 2))\n",
        "arr2 = np.zeros(shape=(5, 1))\n",
        "print(np.hstack((arr1, arr2)))"
      ],
      "id": "international-economics",
      "execution_count": null,
      "outputs": [
        {
          "output_type": "stream",
          "text": [
            "[[1. 1. 0.]\n",
            " [1. 1. 0.]\n",
            " [1. 1. 0.]\n",
            " [1. 1. 0.]\n",
            " [1. 1. 0.]]\n"
          ],
          "name": "stdout"
        }
      ]
    },
    {
      "cell_type": "markdown",
      "metadata": {
        "id": "common-question"
      },
      "source": [
        "### Numpy Conditionals\n",
        "- conditional langsung\n",
        "- np.where()\n",
        "- np.argwhere()\n",
        "- np.select()"
      ],
      "id": "common-question"
    },
    {
      "cell_type": "code",
      "metadata": {
        "id": "24335440",
        "colab": {
          "base_uri": "https://localhost:8080/",
          "height": 246
        },
        "outputId": "f2d58b86-a0aa-4eee-f985-73c5ac5178b5"
      },
      "source": [
        "#conditional langsung\n",
        "x = np.logical_and(arr1 >= 0.65, arr1 <= 0.79)\n",
        "print(f\"ini klo diliat langsung conditionalnya \\n{x}\")\n",
        "\n",
        "print(f\"\\nini cara manfaatinnya \\n{arr1[x]}\")\n",
        "\n",
        "#dia bakal langsung ngambil yang true aja"
      ],
      "id": "24335440",
      "execution_count": null,
      "outputs": [
        {
          "output_type": "error",
          "ename": "NameError",
          "evalue": "ignored",
          "traceback": [
            "\u001b[0;31m---------------------------------------------------------------------------\u001b[0m",
            "\u001b[0;31mNameError\u001b[0m                                 Traceback (most recent call last)",
            "\u001b[0;32m<ipython-input-1-2403462ead45>\u001b[0m in \u001b[0;36m<module>\u001b[0;34m()\u001b[0m\n\u001b[1;32m      1\u001b[0m \u001b[0;31m#conditional langsung\u001b[0m\u001b[0;34m\u001b[0m\u001b[0;34m\u001b[0m\u001b[0;34m\u001b[0m\u001b[0m\n\u001b[0;32m----> 2\u001b[0;31m \u001b[0mx\u001b[0m \u001b[0;34m=\u001b[0m \u001b[0mnp\u001b[0m\u001b[0;34m.\u001b[0m\u001b[0mlogical_and\u001b[0m\u001b[0;34m(\u001b[0m\u001b[0marr1\u001b[0m \u001b[0;34m>=\u001b[0m \u001b[0;36m0.65\u001b[0m\u001b[0;34m,\u001b[0m \u001b[0marr1\u001b[0m \u001b[0;34m<=\u001b[0m \u001b[0;36m0.79\u001b[0m\u001b[0;34m)\u001b[0m\u001b[0;34m\u001b[0m\u001b[0;34m\u001b[0m\u001b[0m\n\u001b[0m\u001b[1;32m      3\u001b[0m \u001b[0mprint\u001b[0m\u001b[0;34m(\u001b[0m\u001b[0;34mf\"ini klo diliat langsung conditionalnya \\n{x}\"\u001b[0m\u001b[0;34m)\u001b[0m\u001b[0;34m\u001b[0m\u001b[0;34m\u001b[0m\u001b[0m\n\u001b[1;32m      4\u001b[0m \u001b[0;34m\u001b[0m\u001b[0m\n\u001b[1;32m      5\u001b[0m \u001b[0mprint\u001b[0m\u001b[0;34m(\u001b[0m\u001b[0;34mf\"\\nini cara manfaatinnya \\n{arr1[x]}\"\u001b[0m\u001b[0;34m)\u001b[0m\u001b[0;34m\u001b[0m\u001b[0;34m\u001b[0m\u001b[0m\n",
            "\u001b[0;31mNameError\u001b[0m: name 'np' is not defined"
          ]
        }
      ]
    },
    {
      "cell_type": "code",
      "metadata": {
        "id": "strategic-rental",
        "colab": {
          "base_uri": "https://localhost:8080/"
        },
        "outputId": "8437d5b7-334e-47d7-935c-c34e0cc2ec83"
      },
      "source": [
        "np.random.seed(10)\n",
        "arr1 = np.random.rand(5, 2)\n",
        "print(f\"kita lihat isinya:\\n{arr1}\")\n",
        "\n",
        "print(f\"\\nkita cari yang >0.65 =\\n {np.where(arr1 > 0.65,arr1,0)}\\n\")\n",
        "print(\n",
        "    f\"kita cari tapi yang dikembaliin indicesnya aja:\\n{np.argwhere(arr1 > 0.65)}\\n\"\n",
        ")  # indicesnya doang"
      ],
      "id": "strategic-rental",
      "execution_count": null,
      "outputs": [
        {
          "output_type": "stream",
          "text": [
            "kita lihat isinya:\n",
            "[[0.77132064 0.02075195]\n",
            " [0.63364823 0.74880388]\n",
            " [0.49850701 0.22479665]\n",
            " [0.19806286 0.76053071]\n",
            " [0.16911084 0.08833981]]\n",
            "\n",
            "kita cari yang >0.65 =\n",
            " [[0.77132064 0.        ]\n",
            " [0.         0.74880388]\n",
            " [0.         0.        ]\n",
            " [0.         0.76053071]\n",
            " [0.         0.        ]]\n",
            "\n",
            "kita cari tapi yang dikembaliin indicesnya aja:\n",
            "[[0 0]\n",
            " [1 1]\n",
            " [3 1]]\n",
            "\n"
          ],
          "name": "stdout"
        }
      ]
    },
    {
      "cell_type": "code",
      "metadata": {
        "id": "spread-wealth",
        "colab": {
          "base_uri": "https://localhost:8080/"
        },
        "outputId": "68e13adb-8b6c-4249-dd88-bb0d98c02d80"
      },
      "source": [
        "print(f\"ini array aslinya:\\n{arr1}\")\n",
        "condList = [\n",
        "    np.logical_and(arr1 >= 0.65, arr1 <= 0.79),\n",
        "    np.logical_or(arr1 < 0.65, arr1 > 0.79)\n",
        "]\n",
        "choiceList = [1, False]\n",
        "np.select(condList, choiceList, default=np.nan)"
      ],
      "id": "spread-wealth",
      "execution_count": null,
      "outputs": [
        {
          "output_type": "stream",
          "text": [
            "ini array aslinya:\n",
            "[[0.77132064 0.02075195]\n",
            " [0.63364823 0.74880388]\n",
            " [0.49850701 0.22479665]\n",
            " [0.19806286 0.76053071]\n",
            " [0.16911084 0.08833981]]\n"
          ],
          "name": "stdout"
        },
        {
          "output_type": "execute_result",
          "data": {
            "text/plain": [
              "array([[1., 0.],\n",
              "       [0., 1.],\n",
              "       [0., 0.],\n",
              "       [0., 1.],\n",
              "       [0., 0.]])"
            ]
          },
          "metadata": {
            "tags": []
          },
          "execution_count": 6
        }
      ]
    }
  ]
}