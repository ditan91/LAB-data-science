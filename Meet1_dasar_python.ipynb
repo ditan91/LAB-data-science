{
  "nbformat": 4,
  "nbformat_minor": 5,
  "metadata": {
    "colab": {
      "name": "Meet1 dasar python.ipynb",
      "provenance": [],
      "collapsed_sections": []
    },
    "kernelspec": {
      "display_name": "Python 3",
      "language": "python",
      "name": "python3"
    },
    "language_info": {
      "codemirror_mode": {
        "name": "ipython",
        "version": 3
      },
      "file_extension": ".py",
      "mimetype": "text/x-python",
      "name": "python",
      "nbconvert_exporter": "python",
      "pygments_lexer": "ipython3",
      "version": "3.6.12"
    },
    "toc": {
      "base_numbering": 1,
      "nav_menu": {},
      "number_sections": true,
      "sideBar": true,
      "skip_h1_title": false,
      "title_cell": "Table of Contents",
      "title_sidebar": "Contents",
      "toc_cell": false,
      "toc_position": {},
      "toc_section_display": true,
      "toc_window_display": false
    },
    "varInspector": {
      "cols": {
        "lenName": 16,
        "lenType": 16,
        "lenVar": 40
      },
      "kernels_config": {
        "python": {
          "delete_cmd_postfix": "",
          "delete_cmd_prefix": "del ",
          "library": "var_list.py",
          "varRefreshCmd": "print(var_dic_list())"
        },
        "r": {
          "delete_cmd_postfix": ") ",
          "delete_cmd_prefix": "rm(",
          "library": "var_list.r",
          "varRefreshCmd": "cat(var_dic_list()) "
        }
      },
      "types_to_exclude": [
        "module",
        "function",
        "builtin_function_or_method",
        "instance",
        "_Feature"
      ],
      "window_display": false
    }
  },
  "cells": [
    {
      "cell_type": "markdown",
      "metadata": {
        "id": "dressed-anaheim"
      },
      "source": [
        "Hari ini Kita mau ngapain ?\n",
        "\n",
        "Kita akan ngebahas \n",
        "\n",
        "Basic Python : \n",
        "    -Basic data types \n",
        "    -Basic Arithmetics\n",
        "    -Loops\n",
        "    -Flow Control\n",
        "    -Containers in detail\n",
        "    -Functions\n",
        "    -String\n",
        "    \n",
        "   \n",
        "   "
      ],
      "id": "dressed-anaheim"
    },
    {
      "cell_type": "markdown",
      "metadata": {
        "id": "excited-stationery"
      },
      "source": [
        "##  Basic Data Types\n",
        "Udah tau lah ya python ada tipe data apa aja, \n",
        "Tapi yang perlu kalian tahu bahwasanya setiap \n",
        "Tipe data di python itu adalah type data Kelas\n",
        "\n",
        "\n",
        " - Float\n",
        " - Int\n",
        " - String\n",
        " - Boolean"
      ],
      "id": "excited-stationery"
    },
    {
      "cell_type": "code",
      "metadata": {
        "ExecuteTime": {
          "end_time": "2021-05-15T11:33:06.502914Z",
          "start_time": "2021-05-15T11:33:06.495918Z"
        },
        "id": "fluid-lesson",
        "outputId": "cd97c3a6-7d3b-4e03-d5f1-707c0113f6c0"
      },
      "source": [
        "contohFloat = 32.0\n",
        "print(\n",
        "    f\"Tipe Datanya adalah : {type(contohFloat) }, dengan nilai {contohFloat}\")\n",
        "##########################################################################################\n",
        "contohBoolean = True\n",
        "print(\n",
        "    f\"Tipe Datanya adalah : {type(contohBoolean) }, dengan nilai {contohBoolean}\"\n",
        ")\n",
        "##########################################################################################\n",
        "contohInteger = 6\n",
        "print(\n",
        "    f\"Tipe Datanya adalah : {type(contohInteger) }, dengan nilai {contohInteger}\"\n",
        ")\n",
        "##########################################################################################\n",
        "contohString1 = \"DataScienceNgab\"\n",
        "contohString2 = 'A'\n",
        "print(\n",
        "    f\"Tipe Datanya adalah : {type(contohString1) }, dengan nilai {contohString1}\"\n",
        ")\n",
        "print(\n",
        "    f\"Tipe Datanya adalah : {type(contohString2) }, dengan nilai {contohString2}\"\n",
        ")\n",
        "##########################################################################################"
      ],
      "id": "fluid-lesson",
      "execution_count": null,
      "outputs": [
        {
          "output_type": "stream",
          "text": [
            "Tipe Datanya adalah : <class 'float'>, dengan nilai 32.0\n",
            "Tipe Datanya adalah : <class 'bool'>, dengan nilai True\n",
            "Tipe Datanya adalah : <class 'int'>, dengan nilai 6\n",
            "Tipe Datanya adalah : <class 'str'>, dengan nilai DataScienceNgab\n",
            "Tipe Datanya adalah : <class 'str'>, dengan nilai A\n"
          ],
          "name": "stdout"
        }
      ]
    },
    {
      "cell_type": "markdown",
      "metadata": {
        "id": "agreed-bearing"
      },
      "source": [
        "## Basic Arithmetics\n",
        "\n",
        "Ini mah Ez , dah Hatam kelean \n",
        "- Penjumlahan\n",
        "- Pengurangan\n",
        "- Perkalian\n",
        "- Pembagian\n"
      ],
      "id": "agreed-bearing"
    },
    {
      "cell_type": "code",
      "metadata": {
        "ExecuteTime": {
          "end_time": "2021-05-15T11:33:06.519904Z",
          "start_time": "2021-05-15T11:33:06.505912Z"
        },
        "id": "developing-algeria",
        "outputId": "fb9b2207-2068-4d20-e26e-fda6e0c00503"
      },
      "source": [
        "nilaiSatu = 50\n",
        "nilaiKedua = 10\n",
        "########################################{Penjumlahan}####################################\n",
        "hasil = nilaiSatu + nilaiKedua\n",
        "print(\"%d + %d = %d\" %\n",
        "      (nilaiSatu, nilaiKedua, hasil))  # Cara lain kalau mau print nilai\n",
        "########################################{Pengurangan}####################################\n",
        "hasil = nilaiSatu - nilaiKedua\n",
        "print(nilaiSatu, \"-\", nilaiKedua, \"=\", hasil)\n",
        "########################################{Perkalian}####################################\n",
        "hasil = nilaiSatu * nilaiKedua\n",
        "print(\"%.1f * %.1f = %.1f\" % (nilaiSatu, nilaiKedua, hasil))\n",
        "########################################{Pembagian}####################################\n",
        "hasil = nilaiSatu / nilaiKedua\n",
        "print(\"%.1f / %.1f = %.1f\" % (nilaiSatu, nilaiKedua, hasil))\n",
        "\n",
        "########################################{Notes}####################################\n",
        "###################################################################################\n",
        "print(\n",
        "    \"############################### NOTE SECTION ################################\"\n",
        ")\n",
        "print(\" %d itu buat Integer\" % (5))\n",
        "print(\" %s itu buat String\" % (\"DsLab\"))\n",
        "print(\" %.1f itu buat Float\" % (4.0))\n",
        "print(\" %.2f itu buat float 2 angka dibelakang koma \\n\" % (4.0))\n",
        "# Pembulatan Otomatis Kebawah dapat menggunakan '//'\n",
        "hasil = nilaiSatu // nilaiKedua\n",
        "print(\"Hasil menggunakan Double // \", hasil)\n",
        "\n",
        "# Merubah Tipe data dapat dengan mudah dengan melakukan hal berikut\n",
        "\n",
        "nilaiSatuFloat = float(nilaiSatu)\n",
        "nilaiSatuInt = int(nilaiSatu)\n",
        "nilaiSatuString = str(nilaiSatu)\n",
        "\n",
        "print(f\"Tipe Data {type(nilaiSatuFloat)} , dengan nilai {nilaiSatuFloat}\")\n",
        "print(f\"Tipe Data {type(nilaiSatuInt)} , dengan nilai {nilaiSatuInt}\")\n",
        "print(f\"Tipe Data {type(nilaiSatuString)} , dengan nilai {nilaiSatuString}\\n\")\n",
        "\n",
        "# Boolean Cuma Bisa konversi ketipe data lain, nilainya cuma  1 atau 0 aja ya <Float dan Int Only>\n",
        "contohBoolean = True\n",
        "\n",
        "contohBooleanInt = int(contohBoolean) #nilainya 1\n",
        "contohBooleanFloat = float(contohBoolean) #nilainya 1.0\n",
        "# Kita ubah Nilai Boolean menjadi false\n",
        "contohBoolean = False\n",
        "contohBooleanString = str(contohBoolean)\n",
        "\n",
        "print(\n",
        "    f\"Tipe Data {type(contohBooleanFloat)} , dengan nilai {contohBooleanFloat}\"\n",
        ")\n",
        "print(f\"Tipe Data {type(contohBooleanInt)} , dengan nilai {contohBooleanInt}\")\n",
        "print(\n",
        "    f\"Tipe Data {type(contohBooleanString)} , dengan nilai {contohBooleanString}\\n\"\n",
        ")\n",
        "\n",
        "# Melakukan Operasi Matematika pada tipe data int dengan float akan mengubah hasil kepada Float\n",
        "hasil = float(nilaiSatu) + nilaiKedua\n",
        "print(f\"Hasil Penjumlahan tipe data Float Dengan tipe data Int adalah : \\\n",
        "Tipe Data {type(hasil)} dengan Nilai {hasil}\")"
      ],
      "id": "developing-algeria",
      "execution_count": null,
      "outputs": [
        {
          "output_type": "stream",
          "text": [
            "50 + 10 = 60\n",
            "50 - 10 = 40\n",
            "50.0 * 10.0 = 500.0\n",
            "50.0 / 10.0 = 5.0\n",
            "############################### NOTE SECTION ################################\n",
            " 5 itu buat Integer\n",
            " DsLab itu buat String\n",
            " 4.0 itu buat Float\n",
            " 4.00 itu buat float 2 angka dibelakang koma \n",
            "\n",
            "Hasil menggunakan Double //  5\n",
            "Tipe Data <class 'float'> , dengan nilai 50.0\n",
            "Tipe Data <class 'int'> , dengan nilai 50\n",
            "Tipe Data <class 'str'> , dengan nilai 50\n",
            "\n",
            "Tipe Data <class 'float'> , dengan nilai 1.0\n",
            "Tipe Data <class 'int'> , dengan nilai 1\n",
            "Tipe Data <class 'str'> , dengan nilai False\n",
            "\n",
            "Hasil Penjumlahan tipe data Float Dengan tipe data Int adalah : Tipe Data <class 'float'> dengan Nilai 60.0\n"
          ],
          "name": "stdout"
        }
      ]
    },
    {
      "cell_type": "markdown",
      "metadata": {
        "id": "continental-racing"
      },
      "source": [
        "## Basic Control Flow\n",
        "\n",
        "Ini If Elif elif ,dah bisa lah ya"
      ],
      "id": "continental-racing"
    },
    {
      "cell_type": "code",
      "metadata": {
        "ExecuteTime": {
          "end_time": "2021-05-15T11:33:06.554884Z",
          "start_time": "2021-05-15T11:33:06.522902Z"
        },
        "colab": {
          "base_uri": "https://localhost:8080/"
        },
        "id": "fancy-daisy",
        "outputId": "ade85630-0d84-4164-9222-9e456ddea793"
      },
      "source": [
        "# Nilai satunya Ubah Ubah Aja kalau pengen mah\n",
        "\n",
        "nilaiSatu = 100\n",
        "\n",
        "if nilaiSatu > 0 and nilaiSatu <= 10:\n",
        "    hasil1 = \"Nilainya berada diantara 1 dengan 10\"\n",
        "elif (nilaiSatu < 0):\n",
        "    hasil1 = \"Nilainya Negatif\"\n",
        "else:\n",
        "    hasil1 = \"Nilainya berada diatas 10\"\n",
        "\n",
        "print(hasil1)"
      ],
      "id": "fancy-daisy",
      "execution_count": null,
      "outputs": [
        {
          "output_type": "stream",
          "text": [
            "Nilainya berada diatas 10\n"
          ],
          "name": "stdout"
        }
      ]
    },
    {
      "cell_type": "markdown",
      "metadata": {
        "id": "ImtZT-Ipank1"
      },
      "source": [
        "untuk ternary control flow sebenarnya hanya berguna untuk ngeringkas control flownya "
      ],
      "id": "ImtZT-Ipank1"
    },
    {
      "cell_type": "markdown",
      "metadata": {
        "id": "ZDWl6hMBbMMf"
      },
      "source": [
        "bentuk umumnya ada 2 yaitu "
      ],
      "id": "ZDWl6hMBbMMf"
    },
    {
      "cell_type": "markdown",
      "metadata": {
        "id": "f1HVAvpVbUle"
      },
      "source": [
        "**condition_if_true** if **condition** else **condition_if_false**"
      ],
      "id": "f1HVAvpVbUle"
    },
    {
      "cell_type": "markdown",
      "metadata": {
        "id": "yrD0r1q1bnS3"
      },
      "source": [
        "atau menggunakan tuples"
      ],
      "id": "yrD0r1q1bnS3"
    },
    {
      "cell_type": "markdown",
      "metadata": {
        "id": "jpvYLdtIcM4v"
      },
      "source": [
        "(**condition_if_false**, **condition_if_true**)[**condition**]"
      ],
      "id": "jpvYLdtIcM4v"
    },
    {
      "cell_type": "code",
      "metadata": {
        "ExecuteTime": {
          "end_time": "2021-05-15T11:33:06.564879Z",
          "start_time": "2021-05-15T11:33:06.557883Z"
        },
        "colab": {
          "base_uri": "https://localhost:8080/"
        },
        "id": "forced-premium",
        "outputId": "e2a5ca93-7b78-4604-90db-b406c6bc1fd0"
      },
      "source": [
        "#ternary control flow\n",
        "\n",
        "#contoh ternary yang pertama dengan aturan yang sama seperti sebelumnya\n",
        "#biasa digunakan oleh programer\n",
        "hasil2 = \"Nilainya berada diantara 1 dengan 10\" if nilaiSatu > 0 and nilaiSatu <= 10 else \"Nilainya berada diatas 10\"\n",
        "print(hasil2)"
      ],
      "id": "forced-premium",
      "execution_count": null,
      "outputs": [
        {
          "output_type": "stream",
          "text": [
            "Nilainya berada diatas 10\n"
          ],
          "name": "stdout"
        }
      ]
    },
    {
      "cell_type": "code",
      "metadata": {
        "ExecuteTime": {
          "end_time": "2021-05-15T11:33:06.571875Z",
          "start_time": "2021-05-15T11:33:06.567878Z"
        },
        "colab": {
          "base_uri": "https://localhost:8080/"
        },
        "id": "XuethCsogPMi",
        "outputId": "2c68841e-75e8-4d9a-a756-7dbff3707737"
      },
      "source": [
        "#contoh ternary yang pertama dengan aturan yang sama seperti sebelumnya\n",
        "hasil3 = (\"Nilainya berada diatas 10\" #ketika kondisi false,\n",
        "          \"Nilainya berada diantara 1 dengan 10\" #ketika kondisi true)[nilaiSatu > 0\n",
        "                                                  and nilaiSatu <= 10]\n",
        "print(hasil3)"
      ],
      "id": "XuethCsogPMi",
      "execution_count": null,
      "outputs": [
        {
          "output_type": "stream",
          "text": [
            "Nilainya berada diatas 10\n"
          ],
          "name": "stdout"
        }
      ]
    },
    {
      "cell_type": "code",
      "metadata": {
        "ExecuteTime": {
          "end_time": "2021-05-15T11:33:06.579870Z",
          "start_time": "2021-05-15T11:33:06.573873Z"
        },
        "colab": {
          "base_uri": "https://localhost:8080/"
        },
        "id": "pxsZEEbJi6yu",
        "outputId": "e8012e00-fa9e-4b13-8089-12858ef37c7f"
      },
      "source": [
        "#bisa juga di tumpuk untuk membangun else if\n",
        "nilaiSatu = -1\n",
        "hasil4 = \"Nilainya berada diantara 1 dengan 10\" if nilaiSatu > 0 and nilaiSatu <= 10 else \"Nilainya Negatif\" if nilaiSatu < 0 else \"Nilainya berada diatas 10\"\n",
        "print(hasil4)"
      ],
      "id": "pxsZEEbJi6yu",
      "execution_count": null,
      "outputs": [
        {
          "output_type": "stream",
          "text": [
            "Nilainya Negatif\n"
          ],
          "name": "stdout"
        }
      ]
    },
    {
      "cell_type": "code",
      "metadata": {
        "ExecuteTime": {
          "end_time": "2021-05-15T11:33:06.593863Z",
          "start_time": "2021-05-15T11:33:06.581869Z"
        },
        "colab": {
          "base_uri": "https://localhost:8080/"
        },
        "id": "precise-algebra",
        "outputId": "f84a9136-394e-4d5c-9cb6-045cdd911e50"
      },
      "source": [
        "#ternary ini pun bisa digunakan untuk uji nilai variable\n",
        "check = (\"ada variable yang berbeda\",\n",
        "         \"semua variable sama\")[hasil1 == hasil2 == hasil3]\n",
        "print(check, end='\\n \\n')\n",
        "check2 = (\"ada variable yang berbeda\",\n",
        "          \"semua variable sama\")[hasil1 == hasil2 == hasil3 == hasil4]\n",
        "print(check2)"
      ],
      "id": "precise-algebra",
      "execution_count": null,
      "outputs": [
        {
          "output_type": "stream",
          "text": [
            "semua variable sama\n",
            " \n",
            "ada variable yang berbeda\n"
          ],
          "name": "stdout"
        }
      ]
    },
    {
      "cell_type": "markdown",
      "metadata": {
        "id": "rO-rrABu0guT"
      },
      "source": [
        ""
      ],
      "id": "rO-rrABu0guT"
    },
    {
      "cell_type": "markdown",
      "metadata": {
        "id": "nominated-stress"
      },
      "source": [
        "##  Loops\n",
        "Di python itu Loops Cuma Dua Biji \n",
        "- For loop\n",
        "- While\n",
        "\n",
        "\n",
        "Kalau do while ndak ada\n",
        "\n"
      ],
      "id": "nominated-stress"
    },
    {
      "cell_type": "code",
      "metadata": {
        "ExecuteTime": {
          "end_time": "2021-05-15T11:33:06.603857Z",
          "start_time": "2021-05-15T11:33:06.595861Z"
        },
        "id": "vertical-policy",
        "outputId": "ff769d47-048b-4a94-dee4-3b8447e65106"
      },
      "source": [
        "# Untuk for Loop kek gini Dah tau lah\n",
        "for i in range(2, 10, 2):\n",
        "    print(i, end=\",\")\n",
        "\n",
        "# Untuk While Loop Kek gini\n",
        "print(\"\\n\")\n",
        "\n",
        "i = 2\n",
        "while i < 10:\n",
        "    print(i, end=\",\")\n",
        "    i += 2"
      ],
      "id": "vertical-policy",
      "execution_count": null,
      "outputs": [
        {
          "output_type": "stream",
          "text": [
            "2,4,6,8,\n",
            "\n",
            "2,4,6,8,"
          ],
          "name": "stdout"
        }
      ]
    },
    {
      "cell_type": "code",
      "metadata": {
        "ExecuteTime": {
          "end_time": "2021-05-15T11:33:06.610852Z",
          "start_time": "2021-05-15T11:33:06.605856Z"
        },
        "colab": {
          "base_uri": "https://localhost:8080/"
        },
        "id": "lJVo0I2GHppd",
        "outputId": "c84014a5-915c-49a0-c37f-9491c54187b5"
      },
      "source": [
        "#looping dengan perintah \"in\"\n",
        "for huruf in 'Data Science':\n",
        "    print('Huruf saat ini: {}'.format(huruf))"
      ],
      "id": "lJVo0I2GHppd",
      "execution_count": null,
      "outputs": [
        {
          "output_type": "stream",
          "text": [
            "Huruf saat ini: D\n",
            "Huruf saat ini: a\n",
            "Huruf saat ini: t\n",
            "Huruf saat ini: a\n",
            "Huruf saat ini:  \n",
            "Huruf saat ini: S\n",
            "Huruf saat ini: c\n",
            "Huruf saat ini: i\n",
            "Huruf saat ini: e\n",
            "Huruf saat ini: n\n",
            "Huruf saat ini: c\n",
            "Huruf saat ini: e\n"
          ],
          "name": "stdout"
        }
      ]
    },
    {
      "cell_type": "code",
      "metadata": {
        "ExecuteTime": {
          "end_time": "2021-05-15T11:33:06.619847Z",
          "start_time": "2021-05-15T11:33:06.614850Z"
        },
        "colab": {
          "base_uri": "https://localhost:8080/"
        },
        "id": "3q66by8FHzJW",
        "outputId": "6b8760ec-7d2f-40de-b961-83479f0e4a5b"
      },
      "source": [
        "#penggunaan break dalam loop\n",
        "for huruf in 'Data Science':\n",
        "    if huruf == ' ':\n",
        "        break\n",
        "    print('Huruf saat ini: {}'.format(huruf))"
      ],
      "id": "3q66by8FHzJW",
      "execution_count": null,
      "outputs": [
        {
          "output_type": "stream",
          "text": [
            "Huruf saat ini: D\n",
            "Huruf saat ini: a\n",
            "Huruf saat ini: t\n",
            "Huruf saat ini: a\n"
          ],
          "name": "stdout"
        }
      ]
    },
    {
      "cell_type": "code",
      "metadata": {
        "ExecuteTime": {
          "end_time": "2021-05-15T11:33:06.628842Z",
          "start_time": "2021-05-15T11:33:06.622846Z"
        },
        "colab": {
          "base_uri": "https://localhost:8080/"
        },
        "id": "CzZiLuwlHYCm",
        "outputId": "6678a6e4-3e9a-403d-845e-011251d714a8"
      },
      "source": [
        "#penggunaan continue dalam loop\n",
        "for huruf in 'Data Science':\n",
        "    if huruf == ' ':\n",
        "        continue\n",
        "    print('Huruf saat ini: {}'.format(huruf))"
      ],
      "id": "CzZiLuwlHYCm",
      "execution_count": null,
      "outputs": [
        {
          "output_type": "stream",
          "text": [
            "Huruf saat ini: D\n",
            "Huruf saat ini: a\n",
            "Huruf saat ini: t\n",
            "Huruf saat ini: a\n",
            "Huruf saat ini: S\n",
            "Huruf saat ini: c\n",
            "Huruf saat ini: i\n",
            "Huruf saat ini: e\n",
            "Huruf saat ini: n\n",
            "Huruf saat ini: c\n",
            "Huruf saat ini: e\n"
          ],
          "name": "stdout"
        }
      ]
    },
    {
      "cell_type": "code",
      "metadata": {
        "ExecuteTime": {
          "end_time": "2021-05-15T11:33:06.639836Z",
          "start_time": "2021-05-15T11:33:06.630841Z"
        },
        "colab": {
          "base_uri": "https://localhost:8080/"
        },
        "id": "IdGJpL4SJXzt",
        "outputId": "b91c97ab-0794-4b77-906e-163257448ee9"
      },
      "source": [
        "#menerapkan fungsi dalam for loop\n",
        "\n",
        "def pow2(x):\n",
        "    return 2**x\n",
        "\n",
        "\n",
        "angka = [1, 2, 3, 4]\n",
        "pangkat = [pow2(n) for n in angka]\n",
        "print(pangkat)"
      ],
      "id": "IdGJpL4SJXzt",
      "execution_count": null,
      "outputs": [
        {
          "output_type": "stream",
          "text": [
            "[2, 4, 8, 16]\n"
          ],
          "name": "stdout"
        }
      ]
    },
    {
      "cell_type": "markdown",
      "metadata": {
        "id": "1fbe4a78"
      },
      "source": [
        "## Function\n",
        "Ketika kita membuat sebuah program complex tentunya akan ada beberapa baris kode yang akan digunakan secara berulang ulang. Hal ini pastinya akan merepotkan jika kita menuliskannya secara berulang ulang karena itulah disini kita memerlukan sebuah fungsi buatan agar kode yang kita bangun lebih mudah di maintance serta lebih efektif\n",
        "\n",
        "\n"
      ],
      "id": "1fbe4a78"
    },
    {
      "cell_type": "markdown",
      "metadata": {
        "id": "f24647e2"
      },
      "source": [
        "mari kita mulai dari dasar dari fungsi"
      ],
      "id": "f24647e2"
    },
    {
      "cell_type": "code",
      "metadata": {
        "ExecuteTime": {
          "end_time": "2021-05-15T11:33:06.648831Z",
          "start_time": "2021-05-15T11:33:06.641834Z"
        },
        "id": "7fb4c24f",
        "outputId": "ce48cf2f-0e5e-4027-a06e-6eee9b6f5bd0"
      },
      "source": [
        "def helloWorld():\n",
        "    print(\"hello world\")\n",
        "\n",
        "\n",
        "helloWorld()"
      ],
      "id": "7fb4c24f",
      "execution_count": null,
      "outputs": [
        {
          "output_type": "stream",
          "text": [
            "hello world\n"
          ],
          "name": "stdout"
        }
      ]
    },
    {
      "cell_type": "markdown",
      "metadata": {
        "id": "1b2450d6"
      },
      "source": [
        "disini kita menciptakan fungsi yang bertugas melakukan print saja tanpa parameter ataupun return"
      ],
      "id": "1b2450d6"
    },
    {
      "cell_type": "markdown",
      "metadata": {
        "id": "4a42b9ab"
      },
      "source": [
        "untuk selanjutnya kita mulai menambahkan argument positional"
      ],
      "id": "4a42b9ab"
    },
    {
      "cell_type": "code",
      "metadata": {
        "ExecuteTime": {
          "end_time": "2021-05-15T11:33:42.125024Z",
          "start_time": "2021-05-15T11:33:42.112031Z"
        },
        "id": "1191d4e1",
        "outputId": "c9f850e9-ae36-4416-f1aa-94e672cc6e09"
      },
      "source": [
        "def perkenalan(nama, element, senjata):\n",
        "    print(\"hello nama aku\", nama, \"menggunakan element\", element,\n",
        "          \"dengan senjata\", senjata)\n",
        "\n",
        "\n",
        "#sebuah fungsi bersifat reusable\n",
        "perkenalan(\"Ganyu\", \"Cyro\", \"Bow\")\n",
        "perkenalan(\"Keqing\", \"Elecro\", \"Sword\")\n",
        "perkenalan(\"Hu Tao\", \"Pyro\", \"Polearm\")\n",
        "\n",
        "#untuk positional argument nilai yang dimasukan harus sesuai dengan posisi variable fungsinya\n",
        "print(\"\\nakan salah jika posisi yang dimasukan terbalik\")\n",
        "perkenalan(\"Cyro\", \"Bow\", \"Ganyu\")\n",
        "\n",
        "#variable yang diciptakan pun akan bersifat local dalam fungsi\n",
        "print(\"\\ndan akan eror jika kita memanggil variable dalam fungsi\")\n",
        "print(nama)"
      ],
      "id": "1191d4e1",
      "execution_count": null,
      "outputs": [
        {
          "output_type": "stream",
          "text": [
            "hello nama aku Ganyu menggunakan element Cyro dengan senjata Bow\n",
            "hello nama aku Keqing menggunakan element Elecro dengan senjata Sword\n",
            "hello nama aku Hu Tao menggunakan element Pyro dengan senjata Polearm\n",
            "\n",
            "akan salah jika posisi yang dimasukan terbalik\n",
            "hello nama aku Cyro menggunakan element Bow dengan senjata Ganyu\n",
            "\n",
            "dan akan eror jika kita memanggil variable dalam fungsi\n"
          ],
          "name": "stdout"
        },
        {
          "output_type": "error",
          "ename": "NameError",
          "evalue": "name 'nama' is not defined",
          "traceback": [
            "\u001b[1;31m---------------------------------------------------------------------------\u001b[0m",
            "\u001b[1;31mNameError\u001b[0m                                 Traceback (most recent call last)",
            "\u001b[1;32m<ipython-input-21-b625ddc42418>\u001b[0m in \u001b[0;36m<module>\u001b[1;34m\u001b[0m\n\u001b[0;32m     15\u001b[0m \u001b[1;31m#variable yang diciptakan pun akan bersifat local dalam fungsi\u001b[0m\u001b[1;33m\u001b[0m\u001b[1;33m\u001b[0m\u001b[1;33m\u001b[0m\u001b[0m\n\u001b[0;32m     16\u001b[0m \u001b[0mprint\u001b[0m\u001b[1;33m(\u001b[0m\u001b[1;34m\"\\ndan akan eror jika kita memanggil variable dalam fungsi\"\u001b[0m\u001b[1;33m)\u001b[0m\u001b[1;33m\u001b[0m\u001b[1;33m\u001b[0m\u001b[0m\n\u001b[1;32m---> 17\u001b[1;33m \u001b[0mprint\u001b[0m\u001b[1;33m(\u001b[0m\u001b[0mnama\u001b[0m\u001b[1;33m)\u001b[0m\u001b[1;33m\u001b[0m\u001b[1;33m\u001b[0m\u001b[0m\n\u001b[0m",
            "\u001b[1;31mNameError\u001b[0m: name 'nama' is not defined"
          ]
        }
      ]
    },
    {
      "cell_type": "markdown",
      "metadata": {
        "id": "e92c3f04"
      },
      "source": [
        "positional argument ini merupakan variable yang hanya berlaku pada fungsi lokal saja dan untuk input parameternya sesuai dengan posisinya supaya masuk ke variable yang benar"
      ],
      "id": "e92c3f04"
    },
    {
      "cell_type": "markdown",
      "metadata": {
        "id": "29c07eb8"
      },
      "source": [
        "selain bentuk argument positional kita pun dapat membuat sebuah argument dalam bentuk keyword contohnya seperti berikut"
      ],
      "id": "29c07eb8"
    },
    {
      "cell_type": "code",
      "metadata": {
        "ExecuteTime": {
          "end_time": "2021-05-15T11:33:42.127024Z",
          "start_time": "2021-05-15T11:33:42.115Z"
        },
        "id": "0d419d0d"
      },
      "source": [
        "def perkenalan(nama, element, senjata):\n",
        "    print(\"hello nama aku\", nama, \"menggunakan element\", element,\n",
        "          \"dengan senjata\", senjata)\n",
        "\n",
        "\n",
        "perkenalan(element=\"Pyro\", senjata=\"Claymore\", nama=\"Klee\")"
      ],
      "id": "0d419d0d",
      "execution_count": null,
      "outputs": []
    },
    {
      "cell_type": "markdown",
      "metadata": {
        "id": "21ec18b1"
      },
      "source": [
        "jadi walaupun input dibalik balik posisinya akan tetap mengikuti sesuai dengan keyword yang dimasukkan"
      ],
      "id": "21ec18b1"
    },
    {
      "cell_type": "markdown",
      "metadata": {
        "id": "9b2c4c53"
      },
      "source": [
        "didalam parameter juga dapat dimasukan nilai default dari parameternya seperti berikut"
      ],
      "id": "9b2c4c53"
    },
    {
      "cell_type": "code",
      "metadata": {
        "ExecuteTime": {
          "end_time": "2021-05-15T11:33:42.128024Z",
          "start_time": "2021-05-15T11:33:42.119Z"
        },
        "id": "852904b6"
      },
      "source": [
        "def perkenalan(nama, element=\"Simp\", senjata=\"Tangan Kosong\"):\n",
        "    print(\"hello nama aku\", nama, \"menggunakan element\", element,\n",
        "          \"dengan senjata\", senjata)\n",
        "\n",
        "\n",
        "perkenalan(\"Pram\")"
      ],
      "id": "852904b6",
      "execution_count": null,
      "outputs": []
    },
    {
      "cell_type": "markdown",
      "metadata": {
        "id": "c2611520"
      },
      "source": [
        "fungsi ini pun bisa dimintai kembalian dengan memasukan return didalam fungsi seperti berikut"
      ],
      "id": "c2611520"
    },
    {
      "cell_type": "code",
      "metadata": {
        "ExecuteTime": {
          "end_time": "2021-05-15T11:33:42.129021Z",
          "start_time": "2021-05-15T11:33:42.122Z"
        },
        "id": "51e24f12"
      },
      "source": [
        "def luasSegitiga(alas, tinggi):\n",
        "    return (alas * tinggi) / 2\n",
        "\n",
        "\n",
        "print(luasSegitiga(4, 10))\n",
        "\n",
        "#bisa dimasukan kedalam sebuah variable\n",
        "x = luasSegitiga(4, 10)\n",
        "print(x)\n",
        "\n",
        "\n",
        "#fungsi ini pun dapat ditumpuk\n",
        "def pangkatDua(n):\n",
        "    res = n * n\n",
        "    return res\n",
        "\n",
        "\n",
        "print(pangkatDua(3))\n",
        "print(pangkatDua(pangkatDua(3)))\n",
        "\n",
        "#jadi abis dimasukin ke fungsi outpunya dimasukan fungsi lagi"
      ],
      "id": "51e24f12",
      "execution_count": null,
      "outputs": []
    },
    {
      "cell_type": "markdown",
      "metadata": {
        "id": "configured-international"
      },
      "source": [
        "## Containers\n",
        "Di python containers itu terdiri dari :\n",
        " - List\n",
        " - Dictionary\n",
        " - Set\n",
        " \n",
        " \n",
        "Masing masing punya kelebihan , sering dipake biar tau kelebihannya apa aja \n",
        "sek aku kasih tau nanti:"
      ],
      "id": "configured-international"
    },
    {
      "cell_type": "markdown",
      "metadata": {
        "id": "hxfFjaJEXU_B"
      },
      "source": [
        "list\n"
      ],
      "id": "hxfFjaJEXU_B"
    },
    {
      "cell_type": "code",
      "metadata": {
        "ExecuteTime": {
          "end_time": "2021-05-15T11:33:42.134020Z",
          "start_time": "2021-05-15T11:33:42.130021Z"
        },
        "id": "friendly-combination",
        "outputId": "82d26603-8497-4ede-941c-54c6740ad4fc"
      },
      "source": [
        "# Inisiasi List\n",
        "# List Itu mutable , jadi isiannya itu bisa di Ubah\n",
        "contohListKosong = []\n",
        "contohListIsi = [\n",
        "    1,\n",
        "    2,\n",
        "    3,\n",
        "    \"Ola\",\n",
        "    3.0,\n",
        "    [2, 3, 4],\n",
        "]\n",
        "print(contohListKosong)\n",
        "print(contohListIsi)"
      ],
      "id": "friendly-combination",
      "execution_count": null,
      "outputs": [
        {
          "output_type": "stream",
          "text": [
            "[]\n",
            "[1, 2, 3, 'Ola', 3.0, [2, 3, 4]]\n"
          ],
          "name": "stdout"
        }
      ]
    },
    {
      "cell_type": "code",
      "metadata": {
        "ExecuteTime": {
          "end_time": "2021-05-15T11:33:42.147011Z",
          "start_time": "2021-05-15T11:33:42.138016Z"
        },
        "colab": {
          "base_uri": "https://localhost:8080/"
        },
        "id": "urban-integral",
        "outputId": "536b875c-6fc6-4323-9d15-4ae51dff7546"
      },
      "source": [
        "# Method Method Yang Berguna banget\n",
        "\n",
        "# append()\n",
        "contohList = [\"Pram\", \"Ds\", \"Telu\", 2018, [2, 4]]\n",
        "contohList.append(\"Lol\")\n",
        "print(f\"Contoh Append : {contohList}\")\n",
        "\n",
        "#insert()\n",
        "contohList.insert(2, \"OlaOla\")\n",
        "print(f\"contoh Insert : {contohList}\\n\")\n",
        "\n",
        "# remove() < Delete Kontennya >\n",
        "# contohList.remove(\"kambing\") # Kalau Ga ada ntar return value Error\n",
        "\n",
        "contohList.remove([2, 4])\n",
        "print(f\"Contoh remove : {contohList}\\n\")\n",
        "\n",
        "#len()\n",
        "print(f\"Contoh len() : {len(contohList)}\\n\") #menghitung berapa eelemen yang ada dalam list \n",
        "\n",
        "#copy()\n",
        "#Ilustrasi Ga make Copy\n",
        "print(\"Ilustrasi tidak memakai Copy method\\n\")\n",
        "contohList2 = contohList\n",
        "print(f\"BeforeContohList 2 : {contohList2}\")\n",
        "print(f\"BeforeContohList 1 : {contohList}\\n\")\n",
        "contohList2.remove(\"Lol\")\n",
        "print(f\"ContohList2 :  {contohList2}\")\n",
        "print(f\"ContohList1 :  {contohList}\")\n",
        "\n",
        "# Ilustrasi make Copy\n",
        "print(\"\\nIlustrasi Memakai Copy Method\\n\")\n",
        "contohList = [\"Pram\", \"Ds\", \"OlaOla\", \"Telu\", 2018, [2, 4], \"Lol\"]\n",
        "contohList2 = contohList.copy()\n",
        "print(f\"BeforeContohList 2 : {contohList2}\")\n",
        "print(f\"BeforeContohList 1 : {contohList}\\n\")\n",
        "contohList2.remove(\"Lol\")\n",
        "print(f\"ContohList2 :  {contohList2}\")\n",
        "print(f\"ContohList1 :  {contohList}\")"
      ],
      "id": "urban-integral",
      "execution_count": null,
      "outputs": [
        {
          "output_type": "stream",
          "text": [
            "Contoh Append : ['Pram', 'Ds', 'Telu', 2018, [2, 4], 'Lol']\n",
            "contoh Insert : ['Pram', 'Ds', 'OlaOla', 'Telu', 2018, [2, 4], 'Lol']\n",
            "\n",
            "Contoh remove : ['Pram', 'Ds', 'OlaOla', 'Telu', 2018, 'Lol']\n",
            "\n",
            "Contoh len() : 6\n",
            "\n",
            "Ilustrasi tidak memakai Copy method\n",
            "\n",
            "BeforeContohList 2 : ['Pram', 'Ds', 'OlaOla', 'Telu', 2018, 'Lol']\n",
            "BeforeContohList 1 : ['Pram', 'Ds', 'OlaOla', 'Telu', 2018, 'Lol']\n",
            "\n",
            "ContohList2 :  ['Pram', 'Ds', 'OlaOla', 'Telu', 2018]\n",
            "ContohList1 :  ['Pram', 'Ds', 'OlaOla', 'Telu', 2018]\n",
            "\n",
            "Ilustrasi Memakai Copy Method\n",
            "\n",
            "BeforeContohList 2 : ['Pram', 'Ds', 'OlaOla', 'Telu', 2018, [2, 4], 'Lol']\n",
            "BeforeContohList 1 : ['Pram', 'Ds', 'OlaOla', 'Telu', 2018, [2, 4], 'Lol']\n",
            "\n",
            "ContohList2 :  ['Pram', 'Ds', 'OlaOla', 'Telu', 2018, [2, 4]]\n",
            "ContohList1 :  ['Pram', 'Ds', 'OlaOla', 'Telu', 2018, [2, 4], 'Lol']\n"
          ],
          "name": "stdout"
        }
      ]
    },
    {
      "cell_type": "code",
      "metadata": {
        "ExecuteTime": {
          "end_time": "2021-05-15T11:33:42.156020Z",
          "start_time": "2021-05-15T11:33:42.149011Z"
        },
        "colab": {
          "base_uri": "https://localhost:8080/"
        },
        "id": "wooden-portsmouth",
        "outputId": "58aca694-ebf3-4727-dc0a-ed1bbe5944b5"
      },
      "source": [
        "#count (menghitung beraapa kali muncul suatu elemen dalam list)\n",
        "contohList = [\n",
        "    \"Ds\", \"ds\", \"Pram\", \"Ds\", \"DS\", \"OlaOla\", \"Telu\", 2018, [2, 4], \"Lol\"\n",
        "]\n",
        "print(\n",
        "    f\"didalam {contohList} banyak huruf Ds adalah :  {contohList.count('Ds')} \\n \\n\"\n",
        ")\n",
        "\n",
        "#extend < Nambahin Seluruh konten yang ada\n",
        "contohSet = {\"2\", 3, 4, 5, 6}\n",
        "contohDict = {\"lol\": 1, \"erk\": 3}\n",
        "contohList.extend(contohSet)\n",
        "contohList.extend(contohDict.values())\n",
        "\n",
        "print(f\"hasil extend = {contohList}\")"
      ],
      "id": "wooden-portsmouth",
      "execution_count": null,
      "outputs": [
        {
          "output_type": "stream",
          "text": [
            "didalam ['Ds', 'ds', 'Pram', 'Ds', 'DS', 'OlaOla', 'Telu', 2018, [2, 4], 'Lol'] banyak huruf Ds adalah :  2 \n",
            " \n",
            "\n",
            "hasil extend = ['Ds', 'ds', 'Pram', 'Ds', 'DS', 'OlaOla', 'Telu', 2018, [2, 4], 'Lol', 3, 4, 5, 6, '2', 1, 3]\n"
          ],
          "name": "stdout"
        }
      ]
    },
    {
      "cell_type": "code",
      "metadata": {
        "ExecuteTime": {
          "end_time": "2021-05-15T11:33:42.164001Z",
          "start_time": "2021-05-15T11:33:42.159004Z"
        },
        "id": "accomplished-dodge",
        "outputId": "b2e6161b-ef7e-47f1-c9ba-3649b6033e26"
      },
      "source": [
        "contohList.clear()\n",
        "print(contohList)"
      ],
      "id": "accomplished-dodge",
      "execution_count": null,
      "outputs": [
        {
          "output_type": "stream",
          "text": [
            "[]\n"
          ],
          "name": "stdout"
        }
      ]
    },
    {
      "cell_type": "markdown",
      "metadata": {
        "id": "practical-illustration"
      },
      "source": [
        "Dictionary  "
      ],
      "id": "practical-illustration"
    },
    {
      "cell_type": "code",
      "metadata": {
        "ExecuteTime": {
          "end_time": "2021-05-15T11:33:42.172996Z",
          "start_time": "2021-05-15T11:33:42.166000Z"
        },
        "colab": {
          "base_uri": "https://localhost:8080/"
        },
        "id": "psychological-testimony",
        "outputId": "101ba980-8b0b-42fd-87d3-b0338031a86f"
      },
      "source": [
        "contohDictionary = {\"key1\": 1, \"key2\": 2, \"key3\": 3}\n",
        "\n",
        "# Values\n",
        "print(\n",
        "    f\"contoh values() : {contohDictionary.values()} dengan tipe data {type(contohDictionary.values())}\"\n",
        ")\n",
        "\n",
        "#keys\n",
        "print(\n",
        "    f\"contoh keys() : {contohDictionary.keys()} dengan tipe data {type(contohDictionary.keys())}\"\n",
        ")\n",
        "\n",
        "#get\n",
        "print(f\"contoh get() : {contohDictionary.get('key3')}\")\n",
        "print(f\"contoh get() : {contohDictionary('key3')}\")\n",
        "#items()\n",
        "print(f\"contoh items() : {contohDictionary.items()}\")\n",
        "\n",
        "print('\\n \\nMenggunakan loop in di dictionary')\n",
        "for keys, value in contohDictionary.items():\n",
        "    print(f\"keys : {keys} dengan Value : {value}\")\n",
        "\n",
        "#copy() Mirip kek yang tadi\n",
        "print(\"\\ngunain fungsi copy\")\n",
        "dictionaryCopy = contohDictionary.copy()\n",
        "print(f\"dictionary utama {contohDictionary} hasil copy = {dictionaryCopy}\")\n",
        "\n",
        "# add Value gunain Update\n",
        "\n",
        "print('\\ngunain fungsi update')\n",
        "print(f\"sebelum update {contohDictionary}\")\n",
        "contohDictionary.update({\"key4\": 4})\n",
        "print(f\"setelah update {contohDictionary}\")"
      ],
      "id": "psychological-testimony",
      "execution_count": null,
      "outputs": [
        {
          "output_type": "stream",
          "text": [
            "contoh values() : dict_values([1, 2, 3]) dengan tipe data <class 'dict_values'>\n",
            "contoh keys() : dict_keys(['key1', 'key2', 'key3']) dengan tipe data <class 'dict_keys'>\n",
            "contoh get() : 3\n",
            "contoh items() : dict_items([('key1', 1), ('key2', 2), ('key3', 3)])\n",
            "\n",
            " \n",
            "Menggunakan loop in di dictionary\n",
            "keys : key1 dengan Value : 1\n",
            "keys : key2 dengan Value : 2\n",
            "keys : key3 dengan Value : 3\n",
            "\n",
            "gunain fungsi copy\n",
            "dictionary utama {'key1': 1, 'key2': 2, 'key3': 3} hasil copy = {'key1': 1, 'key2': 2, 'key3': 3}\n",
            "\n",
            "gunain fungsi update\n",
            "sebelum update {'key1': 1, 'key2': 2, 'key3': 3}\n",
            "setelah update {'key1': 1, 'key2': 2, 'key3': 3, 'key4': 4}\n"
          ],
          "name": "stdout"
        }
      ]
    },
    {
      "cell_type": "markdown",
      "metadata": {
        "id": "jAgvNHWs43qo"
      },
      "source": [
        ""
      ],
      "id": "jAgvNHWs43qo"
    },
    {
      "cell_type": "markdown",
      "metadata": {
        "id": "qI_M2z-T4dnj"
      },
      "source": [
        "jika ingin menyimpan container gunakan copy"
      ],
      "id": "qI_M2z-T4dnj"
    },
    {
      "cell_type": "markdown",
      "metadata": {
        "id": "ytWob5BX4GbF"
      },
      "source": [
        "tuple mirip dengan list namun contentnya tidak bisa diubah"
      ],
      "id": "ytWob5BX4GbF"
    },
    {
      "cell_type": "markdown",
      "metadata": {
        "id": "4j1CJO4sIl9T"
      },
      "source": [
        "\n",
        "set"
      ],
      "id": "4j1CJO4sIl9T"
    },
    {
      "cell_type": "code",
      "metadata": {
        "ExecuteTime": {
          "end_time": "2021-05-15T11:33:42.185988Z",
          "start_time": "2021-05-15T11:33:42.174995Z"
        },
        "colab": {
          "base_uri": "https://localhost:8080/",
          "height": 225
        },
        "id": "minute-paraguay",
        "outputId": "ff00cdd2-b383-44f1-9352-9f8567eb8d94"
      },
      "source": [
        "#contoh set\n",
        "#inisiasi set\n",
        "contohSet = set((1, 1, 1, 1, 1, 2, 2, 2, 2, 3, 3, 3))\n",
        "\n",
        "#set menghasilkan objek yang unik\n",
        "print(contohSet)\n",
        "\n",
        "#sebuah set tidak dapat diubah secara langsung\n",
        "contohSet[1] = 3"
      ],
      "id": "minute-paraguay",
      "execution_count": null,
      "outputs": [
        {
          "output_type": "stream",
          "text": [
            "{1, 2, 3}\n"
          ],
          "name": "stdout"
        },
        {
          "output_type": "error",
          "ename": "TypeError",
          "evalue": "'set' object does not support item assignment",
          "traceback": [
            "\u001b[1;31m---------------------------------------------------------------------------\u001b[0m",
            "\u001b[1;31mTypeError\u001b[0m                                 Traceback (most recent call last)",
            "\u001b[1;32m<ipython-input-27-72a81a50712f>\u001b[0m in \u001b[0;36m<module>\u001b[1;34m\u001b[0m\n\u001b[0;32m      7\u001b[0m \u001b[1;33m\u001b[0m\u001b[0m\n\u001b[0;32m      8\u001b[0m \u001b[1;31m#sebuah set tidak dapat diubah secara langsung\u001b[0m\u001b[1;33m\u001b[0m\u001b[1;33m\u001b[0m\u001b[1;33m\u001b[0m\u001b[0m\n\u001b[1;32m----> 9\u001b[1;33m \u001b[0mcontohSet\u001b[0m\u001b[1;33m[\u001b[0m\u001b[1;36m1\u001b[0m\u001b[1;33m]\u001b[0m \u001b[1;33m=\u001b[0m \u001b[1;36m3\u001b[0m\u001b[1;33m\u001b[0m\u001b[1;33m\u001b[0m\u001b[0m\n\u001b[0m",
            "\u001b[1;31mTypeError\u001b[0m: 'set' object does not support item assignment"
          ]
        }
      ]
    },
    {
      "cell_type": "markdown",
      "metadata": {
        "id": "DqacNExB45D8"
      },
      "source": [
        "tidak bisa double datanya dan hanya bisa di delete atau di tambh"
      ],
      "id": "DqacNExB45D8"
    },
    {
      "cell_type": "code",
      "metadata": {
        "ExecuteTime": {
          "end_time": "2021-05-15T11:34:06.174241Z",
          "start_time": "2021-05-15T11:34:06.168245Z"
        },
        "colab": {
          "base_uri": "https://localhost:8080/"
        },
        "id": "employed-update",
        "outputId": "aaa38bb4-9a82-45f2-ade0-8a3999088f83"
      },
      "source": [
        "#tapi bisa ditambah dengan add()\n",
        "contohSet.add(\"tambahan\")\n",
        "print(f\" setelah di add = {contohSet}\")\n",
        "\n",
        "#bisa juga dihilangkan dengan fungsi discard\n",
        "contohSet.discard(1)\n",
        "print(f\" setelah di discard = {contohSet}\")\n",
        "\n",
        "#menggabungkan sebuah set extend\n",
        "extend = set(('a', 'b', 'c'))\n",
        "contohSet.update(extend)\n",
        "print(f\" setelah di update() = {contohSet}\")"
      ],
      "id": "employed-update",
      "execution_count": null,
      "outputs": [
        {
          "output_type": "stream",
          "text": [
            " setelah di add = {1, 2, 3, 'tambahan'}\n",
            " setelah di discard = {2, 3, 'tambahan'}\n",
            " setelah di update() = {2, 3, 'a', 'b', 'tambahan', 'c'}\n"
          ],
          "name": "stdout"
        }
      ]
    },
    {
      "cell_type": "markdown",
      "metadata": {
        "id": "JZQbqvP8Xi5J"
      },
      "source": [
        "##String Function"
      ],
      "id": "JZQbqvP8Xi5J"
    },
    {
      "cell_type": "code",
      "metadata": {
        "ExecuteTime": {
          "end_time": "2021-05-15T11:34:08.467069Z",
          "start_time": "2021-05-15T11:34:08.458072Z"
        },
        "colab": {
          "base_uri": "https://localhost:8080/"
        },
        "id": "PYI56Z5SVDR7",
        "outputId": "d9ac1ae1-820f-491c-f4ce-442e872dc6ed"
      },
      "source": [
        "string = \"pErtemuan mEet pertama lab dAta sCience.............\"\n",
        "print(string)\n",
        "\n",
        "print(f\"\\nsetelah di upper() = {string.upper()}\") #jadi kapital semua\n",
        "print(f\"\\nsetelah di lower() = {string.lower()}\") #jadi kecil semua\n",
        "print(f\"\\nsetelah di title() = {string.title()}\")\n",
        "print(f\"\\nsetelah di replace() = {string.replace('p','x')}\") #tidak bisa menerima rumus regex\n",
        "print(\n",
        "    f\"\\nsetelah di find() kata lab terdapat pada index = {string.find('lab')}\")\n",
        "print(f\"\\nsetelah di strip() = {string.strip('.')}\")\n",
        "print(f\"\\nsetelah di split() = {string.split(' ')}\")\n",
        "\n",
        "#sebelumnya kan di split sekarang klo digabung\n",
        "\n",
        "listString = ('string1', 'string2', 'string3', 'string4', 'string5')\n",
        "print(\"\\n\\ndisini kita akan menggabungkan dengan func join\")\n",
        "print(\" \".join(listString))\n",
        "print(\"-\".join(listString))\n",
        "print(\"pemisah\".join(listString))\n",
        "\n",
        "#subset string\n",
        "print(f\"\\n \\nkita ambil string lab dengan secara langsung = {string[23:27]}\")\n",
        "print(f\"\\n \\nkita ambil string lab dengan cara split = {string.split()[3]}\")"
      ],
      "id": "PYI56Z5SVDR7",
      "execution_count": null,
      "outputs": [
        {
          "output_type": "stream",
          "text": [
            "pErtemuan mEet pertama lab dAta sCience.............\n",
            "\n",
            "setelah di upper() = PERTEMUAN MEET PERTAMA LAB DATA SCIENCE.............\n",
            "\n",
            "setelah di lower() = pertemuan meet pertama lab data science.............\n",
            "\n",
            "setelah di title() = Pertemuan Meet Pertama Lab Data Science.............\n",
            "\n",
            "setelah di replace() = xErtemuan mEet xertama lab dAta sCience.............\n",
            "\n",
            "setelah di find() kata lab terdapat pada index = 23\n",
            "\n",
            "setelah di strip() = pErtemuan mEet pertama lab dAta sCience\n",
            "\n",
            "setelah di split() = ['pErtemuan', 'mEet', 'pertama', 'lab', 'dAta', 'sCience.............']\n",
            "\n",
            "\n",
            "disini kita akan menggabungkan dengan func join\n",
            "string1 string2 string3 string4 string5\n",
            "string1-string2-string3-string4-string5\n",
            "string1pemisahstring2pemisahstring3pemisahstring4pemisahstring5\n",
            "\n",
            " \n",
            "kita ambil string lab dengan secara langsung = lab \n",
            "\n",
            " \n",
            "kita ambil string lab dengan cara split = lab\n"
          ],
          "name": "stdout"
        }
      ]
    }
  ]
}